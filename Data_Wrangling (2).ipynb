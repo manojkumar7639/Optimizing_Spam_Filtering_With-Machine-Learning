{
  "cells": [
    {
      "cell_type": "code",
      "execution_count": null,
      "metadata": {
        "id": "QX6ZRy1C6TUs"
      },
      "outputs": [],
      "source": [
        "# Importing required lib\n",
        "\n",
        "import numpy as np\n",
        "import pandas as pd\n",
        "import seaborn as sns\n",
        "import matplotlib.pyplot as plt"
      ]
    },
    {
      "cell_type": "code",
      "execution_count": null,
      "metadata": {
        "colab": {
          "base_uri": "https://localhost:8080/"
        },
        "id": "b__Sz2YMefBH",
        "outputId": "e3e48c2c-4b8f-4577-a367-2e6dd17c9b20"
      },
      "outputs": [
        {
          "output_type": "execute_result",
          "data": {
            "text/plain": [
              "['Solarize_Light2',\n",
              " '_classic_test_patch',\n",
              " '_mpl-gallery',\n",
              " '_mpl-gallery-nogrid',\n",
              " 'bmh',\n",
              " 'classic',\n",
              " 'dark_background',\n",
              " 'fast',\n",
              " 'fivethirtyeight',\n",
              " 'ggplot',\n",
              " 'grayscale',\n",
              " 'seaborn-v0_8',\n",
              " 'seaborn-v0_8-bright',\n",
              " 'seaborn-v0_8-colorblind',\n",
              " 'seaborn-v0_8-dark',\n",
              " 'seaborn-v0_8-dark-palette',\n",
              " 'seaborn-v0_8-darkgrid',\n",
              " 'seaborn-v0_8-deep',\n",
              " 'seaborn-v0_8-muted',\n",
              " 'seaborn-v0_8-notebook',\n",
              " 'seaborn-v0_8-paper',\n",
              " 'seaborn-v0_8-pastel',\n",
              " 'seaborn-v0_8-poster',\n",
              " 'seaborn-v0_8-talk',\n",
              " 'seaborn-v0_8-ticks',\n",
              " 'seaborn-v0_8-white',\n",
              " 'seaborn-v0_8-whitegrid',\n",
              " 'tableau-colorblind10']"
            ]
          },
          "metadata": {},
          "execution_count": 6
        }
      ],
      "source": [
        "# Checking for available\n",
        "\n",
        "plt.style.available"
      ]
    },
    {
      "cell_type": "code",
      "execution_count": null,
      "metadata": {
        "id": "yjNUUKrEfVWY"
      },
      "outputs": [],
      "source": [
        "# Applying styles to notebook\n",
        "\n",
        "plt.style.use('fivethirtyeight')"
      ]
    },
    {
      "cell_type": "code",
      "execution_count": null,
      "metadata": {
        "id": "6muDJ70374De"
      },
      "outputs": [],
      "source": [
        "# Reading csv data\n",
        "\n",
        "df = pd.read_csv('/content/spam.csv')\n",
        "df.head()"
      ]
    },
    {
      "cell_type": "code",
      "execution_count": null,
      "metadata": {
        "id": "VTWNrt_DcYRP"
      },
      "outputs": [],
      "source": [
        "# Checking data type\n",
        "\n",
        "df.info()"
      ]
    },
    {
      "cell_type": "code",
      "execution_count": null,
      "metadata": {
        "id": "XKVrtjukf7jk"
      },
      "outputs": [],
      "source": [
        "\"\"\"\n",
        "Types of Analysis\n",
        "1) Univariate analysis\n",
        "2) Bivariate analysis\n",
        "3) Multivariate analysis\n",
        "4) Descriptive analysis / statistics\n",
        "\"\"\""
      ]
    },
    {
      "cell_type": "code",
      "execution_count": null,
      "metadata": {
        "id": "CrgawdDPiya-"
      },
      "outputs": [],
      "source": [
        "# Univariate analysis - Extracting info from a single column\n",
        "\n",
        "# Checking data distribution\n",
        "plt.figure(figsize=(12,5))\n",
        "plt.subplot(121)\n",
        "sns.distplot(df['ham'])\n",
        "plt.subplot(122)\n",
        "sns.distplot(df['spam'])"
      ]
    },
    {
      "cell_type": "code",
      "execution_count": null,
      "metadata": {
        "id": "Br3oQ9Lga3ZV"
      },
      "outputs": [],
      "source": [
        "# Creating dummy dataframe for categorical values \n",
        "\n",
        "df_cat = df.select_dtypes(include='object')\n",
        "df_cat.head()"
      ]
    },
    {
      "cell_type": "code",
      "execution_count": null,
      "metadata": {
        "id": "FnORHIiZcATf"
      },
      "outputs": [],
      "source": [
        "# Visualizing counts in each variable \n",
        "\n",
        "for i,j in enumeratete(df_cat):\n",
        "  plt.subplot(1,4,i+1)\n",
        "  sns.countplot(df[j])\n",
        "  "
      ]
    },
    {
      "cell_type": "code",
      "source": [
        "# Bivariate analysis - Extracting info from double column\n",
        "\n",
        "\n",
        "# Visualizing the relation between spam, ham\n",
        "\n",
        "plt.figure(figsize=(12,5))\n",
        "plt.subplot(131)\n",
        "sns.countplot(df['ham'],hue=df['spam'])\n",
        "\n",
        "\n",
        "\n",
        "\n"
      ],
      "metadata": {
        "id": "oV4jW1jypyrJ"
      },
      "execution_count": null,
      "outputs": []
    },
    {
      "cell_type": "code",
      "source": [
        "# Creating new column\n",
        "df['spam_'] = ['15 to 30'if x<=30 else \"30_50\" if x>30 and x<=50 else '50+' for x in df['spam']]"
      ],
      "metadata": {
        "id": "ZYpU7iEvw_xv"
      },
      "execution_count": null,
      "outputs": []
    },
    {
      "cell_type": "code",
      "source": [
        "df.head()"
      ],
      "metadata": {
        "id": "Ai0V2e9dzHKp"
      },
      "execution_count": null,
      "outputs": []
    },
    {
      "cell_type": "code",
      "source": [
        "#Finding relation between spam_ & ham\n",
        "pd.heatmap(pd.crosstab(df['spam_'],df['ham']))"
      ],
      "metadata": {
        "id": "efilwfwwzRy_"
      },
      "execution_count": null,
      "outputs": []
    },
    {
      "cell_type": "code",
      "source": [
        "# Removing spam_ column\n",
        "\n",
        "df.drop('spam_', axis=1, inplace=True)\n",
        "df.head()"
      ],
      "metadata": {
        "id": "svmcYchQ0pCs"
      },
      "execution_count": null,
      "outputs": []
    },
    {
      "cell_type": "code",
      "source": [
        "# Multivariate analysis - Extract info from more than 2 columns\n",
        "\n",
        "sns.swarmplot(df['spam'],df['ham']) "
      ],
      "metadata": {
        "id": "9PBza8tL2lBx"
      },
      "execution_count": null,
      "outputs": []
    },
    {
      "cell_type": "code",
      "source": [
        "# Findind corr\n",
        "\n",
        "sns.heatmap(df.corr())"
      ],
      "metadata": {
        "id": "K5WYqqHW37UW"
      },
      "execution_count": null,
      "outputs": []
    },
    {
      "cell_type": "code",
      "source": [
        "# Descriptive analysis - descriptive stat\n",
        "\n"
      ],
      "metadata": {
        "id": "NSA4Ya-T4jjt"
      },
      "execution_count": null,
      "outputs": []
    }
  ],
  "metadata": {
    "colab": {
      "provenance": []
    },
    "kernelspec": {
      "display_name": "Python 3",
      "name": "python3"
    },
    "language_info": {
      "name": "python"
    }
  },
  "nbformat": 4,
  "nbformat_minor": 0
}